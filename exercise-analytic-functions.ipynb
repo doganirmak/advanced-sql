{
 "cells": [
  {
   "cell_type": "markdown",
   "id": "7c5e8936",
   "metadata": {
    "papermill": {
     "duration": 0.005849,
     "end_time": "2024-02-03T21:20:23.169041",
     "exception": false,
     "start_time": "2024-02-03T21:20:23.163192",
     "status": "completed"
    },
    "tags": []
   },
   "source": [
    "**This notebook is an exercise in the [Advanced SQL](https://www.kaggle.com/learn/advanced-sql) course.  You can reference the tutorial at [this link](https://www.kaggle.com/alexisbcook/analytic-functions).**\n",
    "\n",
    "---\n"
   ]
  },
  {
   "cell_type": "markdown",
   "id": "ca8007e7",
   "metadata": {
    "papermill": {
     "duration": 0.006851,
     "end_time": "2024-02-03T21:20:23.181527",
     "exception": false,
     "start_time": "2024-02-03T21:20:23.174676",
     "status": "completed"
    },
    "tags": []
   },
   "source": [
    "# Introduction\n",
    "\n",
    "Here, you'll use window functions to answer questions about the [Chicago Taxi Trips](https://www.kaggle.com/chicago/chicago-taxi-trips-bq) dataset.\n",
    "\n",
    "Before you get started, run the code cell below to set everything up."
   ]
  },
  {
   "cell_type": "code",
   "execution_count": 1,
   "id": "16173017",
   "metadata": {
    "execution": {
     "iopub.execute_input": "2024-02-03T21:20:23.196241Z",
     "iopub.status.busy": "2024-02-03T21:20:23.195027Z",
     "iopub.status.idle": "2024-02-03T21:21:16.117634Z",
     "shell.execute_reply": "2024-02-03T21:21:16.116726Z"
    },
    "papermill": {
     "duration": 52.933686,
     "end_time": "2024-02-03T21:21:16.121273",
     "exception": false,
     "start_time": "2024-02-03T21:20:23.187587",
     "status": "completed"
    },
    "tags": []
   },
   "outputs": [
    {
     "name": "stdout",
     "output_type": "stream",
     "text": [
      "Collecting git+https://github.com/Kaggle/learntools.git\r\n",
      "  Cloning https://github.com/Kaggle/learntools.git to /tmp/pip-req-build-sbtsivrt\r\n",
      "  Running command git clone --filter=blob:none --quiet https://github.com/Kaggle/learntools.git /tmp/pip-req-build-sbtsivrt\r\n",
      "  Resolved https://github.com/Kaggle/learntools.git to commit 0b915896f0a90bedb3b94d36398a53cd31c402d7\r\n",
      "  Preparing metadata (setup.py) ... \u001b[?25ldone\r\n",
      "\u001b[?25hBuilding wheels for collected packages: learntools\r\n",
      "  Building wheel for learntools (setup.py) ... \u001b[?25l-\b \bdone\r\n",
      "\u001b[?25h  Created wheel for learntools: filename=learntools-0.3.4-py3-none-any.whl size=268968 sha256=9401e7455862885ba6d504b3281eb3b7fe58e998b82cff0ea2bf1069e7e1d5f8\r\n",
      "  Stored in directory: /tmp/pip-ephem-wheel-cache-de503tx7/wheels/2f/6c/3c/aa9f50cfb5a862157cb4c7a5b34881828cf45404698255dced\r\n",
      "Successfully built learntools\r\n",
      "Installing collected packages: learntools\r\n",
      "Successfully installed learntools-0.3.4\r\n",
      "Using Kaggle's public dataset BigQuery integration.\n",
      "Setup Complete\n"
     ]
    }
   ],
   "source": [
    "# Get most recent checking code\n",
    "!pip install -U -t /kaggle/working/ git+https://github.com/Kaggle/learntools.git\n",
    "# Set up feedback system\n",
    "from learntools.core import binder\n",
    "binder.bind(globals())\n",
    "from learntools.sql_advanced.ex2 import *\n",
    "print(\"Setup Complete\")"
   ]
  },
  {
   "cell_type": "markdown",
   "id": "ff88723b",
   "metadata": {
    "papermill": {
     "duration": 0.006325,
     "end_time": "2024-02-03T21:21:16.134414",
     "exception": false,
     "start_time": "2024-02-03T21:21:16.128089",
     "status": "completed"
    },
    "tags": []
   },
   "source": [
    "The following code cell fetches the `taxi_trips` table from the `chicago_taxi_trips` dataset. We also preview the first five rows of the table.  You'll use the table to answer the questions below."
   ]
  },
  {
   "cell_type": "code",
   "execution_count": 2,
   "id": "0c2a9a05",
   "metadata": {
    "execution": {
     "iopub.execute_input": "2024-02-03T21:21:16.151969Z",
     "iopub.status.busy": "2024-02-03T21:21:16.150400Z",
     "iopub.status.idle": "2024-02-03T21:21:17.683017Z",
     "shell.execute_reply": "2024-02-03T21:21:17.681498Z"
    },
    "papermill": {
     "duration": 1.544276,
     "end_time": "2024-02-03T21:21:17.685995",
     "exception": false,
     "start_time": "2024-02-03T21:21:16.141719",
     "status": "completed"
    },
    "tags": []
   },
   "outputs": [
    {
     "name": "stdout",
     "output_type": "stream",
     "text": [
      "Using Kaggle's public dataset BigQuery integration.\n"
     ]
    },
    {
     "data": {
      "text/html": [
       "<div>\n",
       "<style scoped>\n",
       "    .dataframe tbody tr th:only-of-type {\n",
       "        vertical-align: middle;\n",
       "    }\n",
       "\n",
       "    .dataframe tbody tr th {\n",
       "        vertical-align: top;\n",
       "    }\n",
       "\n",
       "    .dataframe thead th {\n",
       "        text-align: right;\n",
       "    }\n",
       "</style>\n",
       "<table border=\"1\" class=\"dataframe\">\n",
       "  <thead>\n",
       "    <tr style=\"text-align: right;\">\n",
       "      <th></th>\n",
       "      <th>unique_key</th>\n",
       "      <th>taxi_id</th>\n",
       "      <th>trip_start_timestamp</th>\n",
       "      <th>trip_end_timestamp</th>\n",
       "      <th>trip_seconds</th>\n",
       "      <th>trip_miles</th>\n",
       "      <th>pickup_census_tract</th>\n",
       "      <th>dropoff_census_tract</th>\n",
       "      <th>pickup_community_area</th>\n",
       "      <th>dropoff_community_area</th>\n",
       "      <th>...</th>\n",
       "      <th>extras</th>\n",
       "      <th>trip_total</th>\n",
       "      <th>payment_type</th>\n",
       "      <th>company</th>\n",
       "      <th>pickup_latitude</th>\n",
       "      <th>pickup_longitude</th>\n",
       "      <th>pickup_location</th>\n",
       "      <th>dropoff_latitude</th>\n",
       "      <th>dropoff_longitude</th>\n",
       "      <th>dropoff_location</th>\n",
       "    </tr>\n",
       "  </thead>\n",
       "  <tbody>\n",
       "    <tr>\n",
       "      <th>0</th>\n",
       "      <td>bc0e1d5075c00f71c1102b193c64e348cd775a97</td>\n",
       "      <td>cb3bd991c2f7932527ef9d5f341674dfba53745f25fe3e...</td>\n",
       "      <td>2017-12-08 10:15:00+00:00</td>\n",
       "      <td>2017-12-08 10:15:00+00:00</td>\n",
       "      <td>0</td>\n",
       "      <td>0.0</td>\n",
       "      <td>NaN</td>\n",
       "      <td>NaN</td>\n",
       "      <td>13</td>\n",
       "      <td>13</td>\n",
       "      <td>...</td>\n",
       "      <td>0.0</td>\n",
       "      <td>3.25</td>\n",
       "      <td>Cash</td>\n",
       "      <td>Blue Ribbon Taxi Association Inc.</td>\n",
       "      <td>41.983636</td>\n",
       "      <td>-87.723583</td>\n",
       "      <td>POINT (-87.7235831853 41.9836363072)</td>\n",
       "      <td>41.983636</td>\n",
       "      <td>-87.723583</td>\n",
       "      <td>POINT (-87.7235831853 41.9836363072)</td>\n",
       "    </tr>\n",
       "    <tr>\n",
       "      <th>1</th>\n",
       "      <td>ffe8378751e25d68284444ceb330480a0aa1bc40</td>\n",
       "      <td>c7128929398a2f461a7ad7c28638c2719c4fabb7c3e708...</td>\n",
       "      <td>2017-12-08 14:30:00+00:00</td>\n",
       "      <td>2017-12-08 14:30:00+00:00</td>\n",
       "      <td>0</td>\n",
       "      <td>0.0</td>\n",
       "      <td>NaN</td>\n",
       "      <td>NaN</td>\n",
       "      <td>59</td>\n",
       "      <td>59</td>\n",
       "      <td>...</td>\n",
       "      <td>1.0</td>\n",
       "      <td>4.25</td>\n",
       "      <td>Cash</td>\n",
       "      <td>Taxi Affiliation Services</td>\n",
       "      <td>41.829922</td>\n",
       "      <td>-87.672503</td>\n",
       "      <td>POINT (-87.6725026464 41.8299223039)</td>\n",
       "      <td>41.829922</td>\n",
       "      <td>-87.672503</td>\n",
       "      <td>POINT (-87.6725026464 41.8299223039)</td>\n",
       "    </tr>\n",
       "    <tr>\n",
       "      <th>2</th>\n",
       "      <td>07616d0456bc3380463d96f02af18ad21d4aff78</td>\n",
       "      <td>aafb86c1bc07cf16a407a8229564ff200f0ff2e8ca2b56...</td>\n",
       "      <td>2017-12-28 12:30:00+00:00</td>\n",
       "      <td>2017-12-28 12:30:00+00:00</td>\n",
       "      <td>0</td>\n",
       "      <td>0.0</td>\n",
       "      <td>1.703184e+10</td>\n",
       "      <td>1.703184e+10</td>\n",
       "      <td>59</td>\n",
       "      <td>59</td>\n",
       "      <td>...</td>\n",
       "      <td>0.0</td>\n",
       "      <td>3.25</td>\n",
       "      <td>Cash</td>\n",
       "      <td>KOAM Taxi Association</td>\n",
       "      <td>41.833518</td>\n",
       "      <td>-87.681356</td>\n",
       "      <td>POINT (-87.6813558293 41.8335178865)</td>\n",
       "      <td>41.833518</td>\n",
       "      <td>-87.681356</td>\n",
       "      <td>POINT (-87.6813558293 41.8335178865)</td>\n",
       "    </tr>\n",
       "    <tr>\n",
       "      <th>3</th>\n",
       "      <td>a50ceabd0ab53d220ecee073265a7b04c2ea1b04</td>\n",
       "      <td>9ff153898c75dbd960a207b660a71f92f79b666dcec98e...</td>\n",
       "      <td>2017-12-09 10:15:00+00:00</td>\n",
       "      <td>2017-12-09 10:30:00+00:00</td>\n",
       "      <td>1380</td>\n",
       "      <td>8.9</td>\n",
       "      <td>NaN</td>\n",
       "      <td>NaN</td>\n",
       "      <td>42</td>\n",
       "      <td>54</td>\n",
       "      <td>...</td>\n",
       "      <td>0.0</td>\n",
       "      <td>26.00</td>\n",
       "      <td>Cash</td>\n",
       "      <td>Taxi Affiliation Services</td>\n",
       "      <td>41.778877</td>\n",
       "      <td>-87.594925</td>\n",
       "      <td>POINT (-87.5949254391 41.7788768603)</td>\n",
       "      <td>41.660136</td>\n",
       "      <td>-87.602848</td>\n",
       "      <td>POINT (-87.60284764 41.6601360507)</td>\n",
       "    </tr>\n",
       "    <tr>\n",
       "      <th>4</th>\n",
       "      <td>5affa071d286562a229abc8bc0ffadb9b921ebec</td>\n",
       "      <td>cc5330b266a2b3e042e5bc50b1dadb4f4e03db62f8cbd1...</td>\n",
       "      <td>2017-12-18 01:00:00+00:00</td>\n",
       "      <td>2017-12-18 01:00:00+00:00</td>\n",
       "      <td>360</td>\n",
       "      <td>1.5</td>\n",
       "      <td>NaN</td>\n",
       "      <td>NaN</td>\n",
       "      <td>1</td>\n",
       "      <td>2</td>\n",
       "      <td>...</td>\n",
       "      <td>0.0</td>\n",
       "      <td>6.75</td>\n",
       "      <td>Cash</td>\n",
       "      <td>Taxi Affiliation Services</td>\n",
       "      <td>42.009623</td>\n",
       "      <td>-87.670167</td>\n",
       "      <td>POINT (-87.67016685690001 42.0096228806)</td>\n",
       "      <td>42.001571</td>\n",
       "      <td>-87.695013</td>\n",
       "      <td>POINT (-87.6950125892 42.001571027)</td>\n",
       "    </tr>\n",
       "  </tbody>\n",
       "</table>\n",
       "<p>5 rows × 23 columns</p>\n",
       "</div>"
      ],
      "text/plain": [
       "                                 unique_key  \\\n",
       "0  bc0e1d5075c00f71c1102b193c64e348cd775a97   \n",
       "1  ffe8378751e25d68284444ceb330480a0aa1bc40   \n",
       "2  07616d0456bc3380463d96f02af18ad21d4aff78   \n",
       "3  a50ceabd0ab53d220ecee073265a7b04c2ea1b04   \n",
       "4  5affa071d286562a229abc8bc0ffadb9b921ebec   \n",
       "\n",
       "                                             taxi_id  \\\n",
       "0  cb3bd991c2f7932527ef9d5f341674dfba53745f25fe3e...   \n",
       "1  c7128929398a2f461a7ad7c28638c2719c4fabb7c3e708...   \n",
       "2  aafb86c1bc07cf16a407a8229564ff200f0ff2e8ca2b56...   \n",
       "3  9ff153898c75dbd960a207b660a71f92f79b666dcec98e...   \n",
       "4  cc5330b266a2b3e042e5bc50b1dadb4f4e03db62f8cbd1...   \n",
       "\n",
       "       trip_start_timestamp        trip_end_timestamp  trip_seconds  \\\n",
       "0 2017-12-08 10:15:00+00:00 2017-12-08 10:15:00+00:00             0   \n",
       "1 2017-12-08 14:30:00+00:00 2017-12-08 14:30:00+00:00             0   \n",
       "2 2017-12-28 12:30:00+00:00 2017-12-28 12:30:00+00:00             0   \n",
       "3 2017-12-09 10:15:00+00:00 2017-12-09 10:30:00+00:00          1380   \n",
       "4 2017-12-18 01:00:00+00:00 2017-12-18 01:00:00+00:00           360   \n",
       "\n",
       "   trip_miles  pickup_census_tract  dropoff_census_tract  \\\n",
       "0         0.0                  NaN                   NaN   \n",
       "1         0.0                  NaN                   NaN   \n",
       "2         0.0         1.703184e+10          1.703184e+10   \n",
       "3         8.9                  NaN                   NaN   \n",
       "4         1.5                  NaN                   NaN   \n",
       "\n",
       "   pickup_community_area  dropoff_community_area  ...  extras  trip_total  \\\n",
       "0                     13                      13  ...     0.0        3.25   \n",
       "1                     59                      59  ...     1.0        4.25   \n",
       "2                     59                      59  ...     0.0        3.25   \n",
       "3                     42                      54  ...     0.0       26.00   \n",
       "4                      1                       2  ...     0.0        6.75   \n",
       "\n",
       "   payment_type                            company  pickup_latitude  \\\n",
       "0          Cash  Blue Ribbon Taxi Association Inc.        41.983636   \n",
       "1          Cash          Taxi Affiliation Services        41.829922   \n",
       "2          Cash              KOAM Taxi Association        41.833518   \n",
       "3          Cash          Taxi Affiliation Services        41.778877   \n",
       "4          Cash          Taxi Affiliation Services        42.009623   \n",
       "\n",
       "  pickup_longitude                           pickup_location  \\\n",
       "0       -87.723583      POINT (-87.7235831853 41.9836363072)   \n",
       "1       -87.672503      POINT (-87.6725026464 41.8299223039)   \n",
       "2       -87.681356      POINT (-87.6813558293 41.8335178865)   \n",
       "3       -87.594925      POINT (-87.5949254391 41.7788768603)   \n",
       "4       -87.670167  POINT (-87.67016685690001 42.0096228806)   \n",
       "\n",
       "   dropoff_latitude  dropoff_longitude                      dropoff_location  \n",
       "0         41.983636         -87.723583  POINT (-87.7235831853 41.9836363072)  \n",
       "1         41.829922         -87.672503  POINT (-87.6725026464 41.8299223039)  \n",
       "2         41.833518         -87.681356  POINT (-87.6813558293 41.8335178865)  \n",
       "3         41.660136         -87.602848    POINT (-87.60284764 41.6601360507)  \n",
       "4         42.001571         -87.695013   POINT (-87.6950125892 42.001571027)  \n",
       "\n",
       "[5 rows x 23 columns]"
      ]
     },
     "execution_count": 2,
     "metadata": {},
     "output_type": "execute_result"
    }
   ],
   "source": [
    "from google.cloud import bigquery\n",
    "\n",
    "# Create a \"Client\" object\n",
    "client = bigquery.Client()\n",
    "\n",
    "# Construct a reference to the \"chicago_taxi_trips\" dataset\n",
    "dataset_ref = client.dataset(\"chicago_taxi_trips\", project=\"bigquery-public-data\")\n",
    "\n",
    "# API request - fetch the dataset\n",
    "dataset = client.get_dataset(dataset_ref)\n",
    "\n",
    "# Construct a reference to the \"taxi_trips\" table\n",
    "table_ref = dataset_ref.table(\"taxi_trips\")\n",
    "\n",
    "# API request - fetch the table\n",
    "table = client.get_table(table_ref)\n",
    "\n",
    "# Preview the first five lines of the table\n",
    "client.list_rows(table, max_results=5).to_dataframe()"
   ]
  },
  {
   "cell_type": "markdown",
   "id": "f5e3280e",
   "metadata": {
    "papermill": {
     "duration": 0.006941,
     "end_time": "2024-02-03T21:21:17.700206",
     "exception": false,
     "start_time": "2024-02-03T21:21:17.693265",
     "status": "completed"
    },
    "tags": []
   },
   "source": [
    "# Exercises\n",
    "\n",
    "### 1) How can you predict the demand for taxis?\n",
    "\n",
    "Say you work for a taxi company, and you're interested in predicting the demand for taxis.  Towards this goal, you'd like to create a plot that shows a rolling average of the daily number of taxi trips.  Amend the (partial) query below to return a DataFrame with two columns:\n",
    "- `trip_date` - contains one entry for each date from January 1, 2016, to March 31, 2016.\n",
    "- `avg_num_trips` - shows the average number of daily trips, calculated over a window including the value for the current date, along with the values for the preceding 3 days and the following 3 days, as long as the days fit within the three-month time frame.  For instance, when calculating the value in this column for January 3, 2016, the window will include the number of trips for the preceding 2 days, the current date, and the following 3 days.\n",
    "\n",
    "This query is partially completed for you, and you need only write the part that calculates the `avg_num_trips` column.  Note that this query uses a common table expression (CTE); if you need to review how to use CTEs, you're encouraged to check out [this tutorial](https://www.kaggle.com/dansbecker/as-with) in the [Intro to SQL](https://www.kaggle.com/learn/intro-to-sql) course."
   ]
  },
  {
   "cell_type": "code",
   "execution_count": 3,
   "id": "8283f633",
   "metadata": {
    "execution": {
     "iopub.execute_input": "2024-02-03T21:21:17.717231Z",
     "iopub.status.busy": "2024-02-03T21:21:17.716818Z",
     "iopub.status.idle": "2024-02-03T21:21:19.233827Z",
     "shell.execute_reply": "2024-02-03T21:21:19.232516Z"
    },
    "papermill": {
     "duration": 1.528877,
     "end_time": "2024-02-03T21:21:19.236418",
     "exception": false,
     "start_time": "2024-02-03T21:21:17.707541",
     "status": "completed"
    },
    "tags": []
   },
   "outputs": [
    {
     "data": {
      "text/html": [
       "<div>\n",
       "<style scoped>\n",
       "    .dataframe tbody tr th:only-of-type {\n",
       "        vertical-align: middle;\n",
       "    }\n",
       "\n",
       "    .dataframe tbody tr th {\n",
       "        vertical-align: top;\n",
       "    }\n",
       "\n",
       "    .dataframe thead th {\n",
       "        text-align: right;\n",
       "    }\n",
       "</style>\n",
       "<table border=\"1\" class=\"dataframe\">\n",
       "  <thead>\n",
       "    <tr style=\"text-align: right;\">\n",
       "      <th></th>\n",
       "      <th>trip_date</th>\n",
       "      <th>avg_num_trips</th>\n",
       "    </tr>\n",
       "  </thead>\n",
       "  <tbody>\n",
       "    <tr>\n",
       "      <th>0</th>\n",
       "      <td>2016-02-17</td>\n",
       "      <td>90092.857143</td>\n",
       "    </tr>\n",
       "    <tr>\n",
       "      <th>1</th>\n",
       "      <td>2016-01-06</td>\n",
       "      <td>74708.571429</td>\n",
       "    </tr>\n",
       "    <tr>\n",
       "      <th>2</th>\n",
       "      <td>2016-01-19</td>\n",
       "      <td>85156.571429</td>\n",
       "    </tr>\n",
       "    <tr>\n",
       "      <th>3</th>\n",
       "      <td>2016-02-05</td>\n",
       "      <td>81493.142857</td>\n",
       "    </tr>\n",
       "    <tr>\n",
       "      <th>4</th>\n",
       "      <td>2016-01-20</td>\n",
       "      <td>84509.142857</td>\n",
       "    </tr>\n",
       "  </tbody>\n",
       "</table>\n",
       "</div>"
      ],
      "text/plain": [
       "    trip_date  avg_num_trips\n",
       "0  2016-02-17   90092.857143\n",
       "1  2016-01-06   74708.571429\n",
       "2  2016-01-19   85156.571429\n",
       "3  2016-02-05   81493.142857\n",
       "4  2016-01-20   84509.142857"
      ]
     },
     "metadata": {},
     "output_type": "display_data"
    },
    {
     "data": {
      "application/javascript": [
       "parent.postMessage({\"jupyterEvent\": \"custom.exercise_interaction\", \"data\": {\"outcomeType\": 1, \"valueTowardsCompletion\": 0.3333333333333333, \"interactionType\": 1, \"questionType\": 2, \"questionId\": \"1_TaxiDemand\", \"learnToolsVersion\": \"0.3.4\", \"failureMessage\": \"\", \"exceptionClass\": \"\", \"trace\": \"\"}}, \"*\")"
      ],
      "text/plain": [
       "<IPython.core.display.Javascript object>"
      ]
     },
     "metadata": {},
     "output_type": "display_data"
    },
    {
     "data": {
      "text/markdown": [
       "<span style=\"color:#33cc33\">Correct</span>"
      ],
      "text/plain": [
       "Correct"
      ]
     },
     "metadata": {},
     "output_type": "display_data"
    }
   ],
   "source": [
    "# Fill in the blank below\n",
    "avg_num_trips_query = \"\"\"\n",
    "                      WITH trips_by_day AS\n",
    "                      (\n",
    "                      SELECT DATE(trip_start_timestamp) AS trip_date,\n",
    "                          COUNT(*) as num_trips\n",
    "                      FROM `bigquery-public-data.chicago_taxi_trips.taxi_trips`\n",
    "                      WHERE trip_start_timestamp > '2016-01-01' AND trip_start_timestamp < '2016-04-01'\n",
    "                      GROUP BY trip_date\n",
    "                      ORDER BY trip_date\n",
    "                      )\n",
    "                      SELECT trip_date,\n",
    "                          AVG(num_trips)\n",
    "                          OVER (\n",
    "                               ORDER BY trip_date\n",
    "                               ROWS BETWEEN 3 PRECEDING AND 3 FOLLOWING\n",
    "                               ) AS avg_num_trips\n",
    "                      FROM trips_by_day\n",
    "                      \"\"\"\n",
    "\n",
    "# Check your answer\n",
    "q_1.check()"
   ]
  },
  {
   "cell_type": "code",
   "execution_count": 4,
   "id": "8b67833c",
   "metadata": {
    "execution": {
     "iopub.execute_input": "2024-02-03T21:21:19.254235Z",
     "iopub.status.busy": "2024-02-03T21:21:19.253246Z",
     "iopub.status.idle": "2024-02-03T21:21:19.259021Z",
     "shell.execute_reply": "2024-02-03T21:21:19.257755Z"
    },
    "papermill": {
     "duration": 0.017601,
     "end_time": "2024-02-03T21:21:19.261594",
     "exception": false,
     "start_time": "2024-02-03T21:21:19.243993",
     "status": "completed"
    },
    "tags": []
   },
   "outputs": [],
   "source": [
    "# Lines below will give you a hint or solution code\n",
    "#q_1.hint()\n",
    "#q_1.solution()"
   ]
  },
  {
   "cell_type": "markdown",
   "id": "54e217df",
   "metadata": {
    "papermill": {
     "duration": 0.007172,
     "end_time": "2024-02-03T21:21:19.276407",
     "exception": false,
     "start_time": "2024-02-03T21:21:19.269235",
     "status": "completed"
    },
    "tags": []
   },
   "source": [
    "### 2) Can you separate and order trips by community area?\n",
    "\n",
    "The query below returns a DataFrame with three columns from the table: `pickup_community_area`, `trip_start_timestamp`, and `trip_end_timestamp`.  \n",
    "\n",
    "Amend the query to return an additional column called `trip_number` which shows the order in which the trips were taken from their respective community areas.  So, the first trip of the day originating from community area 1 should receive a value of 1; the second trip of the day from the same area should receive a value of 2.  Likewise, the first trip of the day from community area 2 should receive a value of 1, and so on.\n",
    "\n",
    "Note that there are many numbering functions that can be used to solve this problem (depending on how you want to deal with trips that started at the same time from the same community area); to answer this question, please use the **RANK()** function."
   ]
  },
  {
   "cell_type": "code",
   "execution_count": 5,
   "id": "1e0b4bf9",
   "metadata": {
    "execution": {
     "iopub.execute_input": "2024-02-03T21:21:19.294059Z",
     "iopub.status.busy": "2024-02-03T21:21:19.293062Z",
     "iopub.status.idle": "2024-02-03T21:21:25.102380Z",
     "shell.execute_reply": "2024-02-03T21:21:25.101068Z"
    },
    "papermill": {
     "duration": 5.821398,
     "end_time": "2024-02-03T21:21:25.105235",
     "exception": false,
     "start_time": "2024-02-03T21:21:19.283837",
     "status": "completed"
    },
    "tags": []
   },
   "outputs": [
    {
     "data": {
      "text/html": [
       "<div>\n",
       "<style scoped>\n",
       "    .dataframe tbody tr th:only-of-type {\n",
       "        vertical-align: middle;\n",
       "    }\n",
       "\n",
       "    .dataframe tbody tr th {\n",
       "        vertical-align: top;\n",
       "    }\n",
       "\n",
       "    .dataframe thead th {\n",
       "        text-align: right;\n",
       "    }\n",
       "</style>\n",
       "<table border=\"1\" class=\"dataframe\">\n",
       "  <thead>\n",
       "    <tr style=\"text-align: right;\">\n",
       "      <th></th>\n",
       "      <th>pickup_community_area</th>\n",
       "      <th>trip_start_timestamp</th>\n",
       "      <th>trip_end_timestamp</th>\n",
       "      <th>trip_number</th>\n",
       "    </tr>\n",
       "  </thead>\n",
       "  <tbody>\n",
       "    <tr>\n",
       "      <th>0</th>\n",
       "      <td>3.0</td>\n",
       "      <td>2013-10-03 00:00:00+00:00</td>\n",
       "      <td>2013-10-03 00:00:00+00:00</td>\n",
       "      <td>1</td>\n",
       "    </tr>\n",
       "    <tr>\n",
       "      <th>1</th>\n",
       "      <td>3.0</td>\n",
       "      <td>2013-10-03 00:00:00+00:00</td>\n",
       "      <td>2013-10-03 00:00:00+00:00</td>\n",
       "      <td>1</td>\n",
       "    </tr>\n",
       "    <tr>\n",
       "      <th>2</th>\n",
       "      <td>3.0</td>\n",
       "      <td>2013-10-03 00:00:00+00:00</td>\n",
       "      <td>2013-10-03 00:30:00+00:00</td>\n",
       "      <td>1</td>\n",
       "    </tr>\n",
       "    <tr>\n",
       "      <th>3</th>\n",
       "      <td>3.0</td>\n",
       "      <td>2013-10-03 00:00:00+00:00</td>\n",
       "      <td>2013-10-03 00:00:00+00:00</td>\n",
       "      <td>1</td>\n",
       "    </tr>\n",
       "    <tr>\n",
       "      <th>4</th>\n",
       "      <td>3.0</td>\n",
       "      <td>2013-10-03 00:00:00+00:00</td>\n",
       "      <td>2013-10-03 00:00:00+00:00</td>\n",
       "      <td>1</td>\n",
       "    </tr>\n",
       "  </tbody>\n",
       "</table>\n",
       "</div>"
      ],
      "text/plain": [
       "   pickup_community_area      trip_start_timestamp        trip_end_timestamp  \\\n",
       "0                    3.0 2013-10-03 00:00:00+00:00 2013-10-03 00:00:00+00:00   \n",
       "1                    3.0 2013-10-03 00:00:00+00:00 2013-10-03 00:00:00+00:00   \n",
       "2                    3.0 2013-10-03 00:00:00+00:00 2013-10-03 00:30:00+00:00   \n",
       "3                    3.0 2013-10-03 00:00:00+00:00 2013-10-03 00:00:00+00:00   \n",
       "4                    3.0 2013-10-03 00:00:00+00:00 2013-10-03 00:00:00+00:00   \n",
       "\n",
       "   trip_number  \n",
       "0            1  \n",
       "1            1  \n",
       "2            1  \n",
       "3            1  \n",
       "4            1  "
      ]
     },
     "metadata": {},
     "output_type": "display_data"
    },
    {
     "data": {
      "application/javascript": [
       "parent.postMessage({\"jupyterEvent\": \"custom.exercise_interaction\", \"data\": {\"outcomeType\": 1, \"valueTowardsCompletion\": 0.3333333333333333, \"interactionType\": 1, \"questionType\": 2, \"questionId\": \"2_CommunityArea\", \"learnToolsVersion\": \"0.3.4\", \"failureMessage\": \"\", \"exceptionClass\": \"\", \"trace\": \"\"}}, \"*\")"
      ],
      "text/plain": [
       "<IPython.core.display.Javascript object>"
      ]
     },
     "metadata": {},
     "output_type": "display_data"
    },
    {
     "data": {
      "text/markdown": [
       "<span style=\"color:#33cc33\">Correct</span>"
      ],
      "text/plain": [
       "Correct"
      ]
     },
     "metadata": {},
     "output_type": "display_data"
    }
   ],
   "source": [
    "# Amend the query below\n",
    "trip_number_query = \"\"\"\n",
    "                    SELECT pickup_community_area,\n",
    "                        trip_start_timestamp,\n",
    "                        trip_end_timestamp,\n",
    "                        RANK() OVER (\n",
    "                        PARTITION BY pickup_community_area\n",
    "                        ORDER BY trip_start_timestamp                       \n",
    "                        ) AS trip_number\n",
    "                    FROM `bigquery-public-data.chicago_taxi_trips.taxi_trips`\n",
    "                    WHERE DATE(trip_start_timestamp) = '2013-10-03'\n",
    "                    \"\"\"\n",
    "\n",
    "# Check your answer\n",
    "q_2.check()"
   ]
  },
  {
   "cell_type": "code",
   "execution_count": 6,
   "id": "5c9a7097",
   "metadata": {
    "execution": {
     "iopub.execute_input": "2024-02-03T21:21:25.124925Z",
     "iopub.status.busy": "2024-02-03T21:21:25.124543Z",
     "iopub.status.idle": "2024-02-03T21:21:25.129730Z",
     "shell.execute_reply": "2024-02-03T21:21:25.128382Z"
    },
    "papermill": {
     "duration": 0.018379,
     "end_time": "2024-02-03T21:21:25.132625",
     "exception": false,
     "start_time": "2024-02-03T21:21:25.114246",
     "status": "completed"
    },
    "tags": []
   },
   "outputs": [],
   "source": [
    "# Lines below will give you a hint or solution code\n",
    "#q_2.hint()\n",
    "#q_2.solution()"
   ]
  },
  {
   "cell_type": "markdown",
   "id": "13827c47",
   "metadata": {
    "papermill": {
     "duration": 0.009173,
     "end_time": "2024-02-03T21:21:25.150578",
     "exception": false,
     "start_time": "2024-02-03T21:21:25.141405",
     "status": "completed"
    },
    "tags": []
   },
   "source": [
    "### 3) How much time elapses between trips?\n",
    "\n",
    "The (partial) query in the code cell below shows, for each trip in the selected time frame, the corresponding `taxi_id`, `trip_start_timestamp`, and `trip_end_timestamp`. \n",
    "\n",
    "Your task in this exercise is to edit the query to include an additional `prev_break` column that shows the length of the break (in minutes) that the driver had before each trip started (this corresponds to the time between `trip_start_timestamp` of the current trip and `trip_end_timestamp` of the previous trip).  Partition the calculation by `taxi_id`, and order the results within each partition by `trip_start_timestamp`.\n",
    "\n",
    "Some sample results are shown below, where all rows correspond to the same driver (or `taxi_id`).  Take the time now to make sure that the values in the `prev_break` column make sense to you!\n",
    "\n",
    "![first_commands](https://storage.googleapis.com/kaggle-media/learn/images/qjvQzg8.png)\n",
    "\n",
    "Note that the first trip of the day for each driver should have a value of **NaN** (not a number) in the `prev_break` column."
   ]
  },
  {
   "cell_type": "code",
   "execution_count": 7,
   "id": "955634b5",
   "metadata": {
    "execution": {
     "iopub.execute_input": "2024-02-03T21:21:25.170646Z",
     "iopub.status.busy": "2024-02-03T21:21:25.170252Z",
     "iopub.status.idle": "2024-02-03T21:21:35.033289Z",
     "shell.execute_reply": "2024-02-03T21:21:35.032459Z"
    },
    "papermill": {
     "duration": 9.876126,
     "end_time": "2024-02-03T21:21:35.035797",
     "exception": false,
     "start_time": "2024-02-03T21:21:25.159671",
     "status": "completed"
    },
    "tags": []
   },
   "outputs": [
    {
     "data": {
      "text/html": [
       "<div>\n",
       "<style scoped>\n",
       "    .dataframe tbody tr th:only-of-type {\n",
       "        vertical-align: middle;\n",
       "    }\n",
       "\n",
       "    .dataframe tbody tr th {\n",
       "        vertical-align: top;\n",
       "    }\n",
       "\n",
       "    .dataframe thead th {\n",
       "        text-align: right;\n",
       "    }\n",
       "</style>\n",
       "<table border=\"1\" class=\"dataframe\">\n",
       "  <thead>\n",
       "    <tr style=\"text-align: right;\">\n",
       "      <th></th>\n",
       "      <th>taxi_id</th>\n",
       "      <th>trip_start_timestamp</th>\n",
       "      <th>trip_end_timestamp</th>\n",
       "      <th>prev_break</th>\n",
       "    </tr>\n",
       "  </thead>\n",
       "  <tbody>\n",
       "    <tr>\n",
       "      <th>0</th>\n",
       "      <td>0f1b65c1c73b1a8a687054ea0bb175edd243a5d065d7fa...</td>\n",
       "      <td>2013-10-03 15:45:00+00:00</td>\n",
       "      <td>2013-10-03 16:00:00+00:00</td>\n",
       "      <td>180.0</td>\n",
       "    </tr>\n",
       "    <tr>\n",
       "      <th>1</th>\n",
       "      <td>19fbaf2c91768dbdf4d25436a17f9f99da4330f1af0d66...</td>\n",
       "      <td>2013-10-03 13:30:00+00:00</td>\n",
       "      <td>2013-10-03 13:45:00+00:00</td>\n",
       "      <td>225.0</td>\n",
       "    </tr>\n",
       "    <tr>\n",
       "      <th>2</th>\n",
       "      <td>1b106798d36c2a85aa61c47ef4a331e1c3f00d159601ce...</td>\n",
       "      <td>2013-10-03 18:30:00+00:00</td>\n",
       "      <td>2013-10-03 18:45:00+00:00</td>\n",
       "      <td>255.0</td>\n",
       "    </tr>\n",
       "    <tr>\n",
       "      <th>3</th>\n",
       "      <td>30b02068f1c857f6fd5144c600f3e61acb5f5456e5fb0e...</td>\n",
       "      <td>2013-10-03 07:00:00+00:00</td>\n",
       "      <td>2013-10-03 07:00:00+00:00</td>\n",
       "      <td>210.0</td>\n",
       "    </tr>\n",
       "    <tr>\n",
       "      <th>4</th>\n",
       "      <td>35467b44491f6f51eaa0f4fb1cd65e4c23117aa268d9dd...</td>\n",
       "      <td>2013-10-03 16:00:00+00:00</td>\n",
       "      <td>2013-10-03 16:00:00+00:00</td>\n",
       "      <td>-45.0</td>\n",
       "    </tr>\n",
       "  </tbody>\n",
       "</table>\n",
       "</div>"
      ],
      "text/plain": [
       "                                             taxi_id  \\\n",
       "0  0f1b65c1c73b1a8a687054ea0bb175edd243a5d065d7fa...   \n",
       "1  19fbaf2c91768dbdf4d25436a17f9f99da4330f1af0d66...   \n",
       "2  1b106798d36c2a85aa61c47ef4a331e1c3f00d159601ce...   \n",
       "3  30b02068f1c857f6fd5144c600f3e61acb5f5456e5fb0e...   \n",
       "4  35467b44491f6f51eaa0f4fb1cd65e4c23117aa268d9dd...   \n",
       "\n",
       "       trip_start_timestamp        trip_end_timestamp  prev_break  \n",
       "0 2013-10-03 15:45:00+00:00 2013-10-03 16:00:00+00:00       180.0  \n",
       "1 2013-10-03 13:30:00+00:00 2013-10-03 13:45:00+00:00       225.0  \n",
       "2 2013-10-03 18:30:00+00:00 2013-10-03 18:45:00+00:00       255.0  \n",
       "3 2013-10-03 07:00:00+00:00 2013-10-03 07:00:00+00:00       210.0  \n",
       "4 2013-10-03 16:00:00+00:00 2013-10-03 16:00:00+00:00       -45.0  "
      ]
     },
     "metadata": {},
     "output_type": "display_data"
    },
    {
     "data": {
      "application/javascript": [
       "parent.postMessage({\"jupyterEvent\": \"custom.exercise_interaction\", \"data\": {\"outcomeType\": 1, \"valueTowardsCompletion\": 0.3333333333333333, \"interactionType\": 1, \"questionType\": 2, \"questionId\": \"3_BreakTime\", \"learnToolsVersion\": \"0.3.4\", \"failureMessage\": \"\", \"exceptionClass\": \"\", \"trace\": \"\"}}, \"*\")"
      ],
      "text/plain": [
       "<IPython.core.display.Javascript object>"
      ]
     },
     "metadata": {},
     "output_type": "display_data"
    },
    {
     "data": {
      "text/markdown": [
       "<span style=\"color:#33cc33\">Correct</span>"
      ],
      "text/plain": [
       "Correct"
      ]
     },
     "metadata": {},
     "output_type": "display_data"
    }
   ],
   "source": [
    "# Fill in the blanks below\n",
    "break_time_query = \"\"\"\n",
    "                   SELECT taxi_id,\n",
    "                       trip_start_timestamp,\n",
    "                       trip_end_timestamp,\n",
    "                       TIMESTAMP_DIFF(\n",
    "                           trip_start_timestamp, \n",
    "                           LAG(trip_end_timestamp) \n",
    "                               OVER (\n",
    "                                    PARTITION BY taxi_id \n",
    "                                    ORDER BY trip_start_timestamp), \n",
    "                           MINUTE) as prev_break\n",
    "                   FROM `bigquery-public-data.chicago_taxi_trips.taxi_trips`\n",
    "                   WHERE DATE(trip_start_timestamp) = '2013-10-03' \n",
    "                   \"\"\"\n",
    "\n",
    "# Check your answer\n",
    "q_3.check()"
   ]
  },
  {
   "cell_type": "code",
   "execution_count": 8,
   "id": "36f9c6bf",
   "metadata": {
    "execution": {
     "iopub.execute_input": "2024-02-03T21:21:35.059245Z",
     "iopub.status.busy": "2024-02-03T21:21:35.058816Z",
     "iopub.status.idle": "2024-02-03T21:21:35.063705Z",
     "shell.execute_reply": "2024-02-03T21:21:35.062495Z"
    },
    "papermill": {
     "duration": 0.019909,
     "end_time": "2024-02-03T21:21:35.066531",
     "exception": false,
     "start_time": "2024-02-03T21:21:35.046622",
     "status": "completed"
    },
    "tags": []
   },
   "outputs": [],
   "source": [
    "# Lines below will give you a hint or solution code\n",
    "#q_3.hint()\n",
    "#q_3.solution()"
   ]
  },
  {
   "cell_type": "markdown",
   "id": "55c28437",
   "metadata": {
    "papermill": {
     "duration": 0.009666,
     "end_time": "2024-02-03T21:21:35.086395",
     "exception": false,
     "start_time": "2024-02-03T21:21:35.076729",
     "status": "completed"
    },
    "tags": []
   },
   "source": [
    "# Keep going\n",
    "\n",
    "Move on to learn how to query **[nested and repeated data](https://www.kaggle.com/alexisbcook/nested-and-repeated-data)**."
   ]
  },
  {
   "cell_type": "markdown",
   "id": "80d0c081",
   "metadata": {
    "papermill": {
     "duration": 0.009552,
     "end_time": "2024-02-03T21:21:35.105913",
     "exception": false,
     "start_time": "2024-02-03T21:21:35.096361",
     "status": "completed"
    },
    "tags": []
   },
   "source": [
    "---\n",
    "\n",
    "\n",
    "\n",
    "\n",
    "*Have questions or comments? Visit the [course discussion forum](https://www.kaggle.com/learn/advanced-sql/discussion) to chat with other learners.*"
   ]
  }
 ],
 "metadata": {
  "kaggle": {
   "accelerator": "none",
   "dataSources": [
    {
     "datasetId": 22219,
     "sourceId": 28536,
     "sourceType": "datasetVersion"
    }
   ],
   "isGpuEnabled": false,
   "isInternetEnabled": true,
   "language": "python",
   "sourceType": "notebook"
  },
  "kernelspec": {
   "display_name": "Python 3",
   "language": "python",
   "name": "python3"
  },
  "language_info": {
   "codemirror_mode": {
    "name": "ipython",
    "version": 3
   },
   "file_extension": ".py",
   "mimetype": "text/x-python",
   "name": "python",
   "nbconvert_exporter": "python",
   "pygments_lexer": "ipython3",
   "version": "3.10.13"
  },
  "papermill": {
   "default_parameters": {},
   "duration": 75.939297,
   "end_time": "2024-02-03T21:21:35.941767",
   "environment_variables": {},
   "exception": null,
   "input_path": "__notebook__.ipynb",
   "output_path": "__notebook__.ipynb",
   "parameters": {},
   "start_time": "2024-02-03T21:20:20.002470",
   "version": "2.5.0"
  }
 },
 "nbformat": 4,
 "nbformat_minor": 5
}
