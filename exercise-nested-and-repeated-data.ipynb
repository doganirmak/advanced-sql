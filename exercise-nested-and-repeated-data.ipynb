{
 "cells": [
  {
   "cell_type": "markdown",
   "id": "680c8a48",
   "metadata": {
    "papermill": {
     "duration": 0.005316,
     "end_time": "2024-02-04T16:35:54.717634",
     "exception": false,
     "start_time": "2024-02-04T16:35:54.712318",
     "status": "completed"
    },
    "tags": []
   },
   "source": [
    "**This notebook is an exercise in the [Advanced SQL](https://www.kaggle.com/learn/advanced-sql) course.  You can reference the tutorial at [this link](https://www.kaggle.com/alexisbcook/nested-and-repeated-data).**\n",
    "\n",
    "---\n"
   ]
  },
  {
   "cell_type": "markdown",
   "id": "5b6a5f4e",
   "metadata": {
    "papermill": {
     "duration": 0.004369,
     "end_time": "2024-02-04T16:35:54.726786",
     "exception": false,
     "start_time": "2024-02-04T16:35:54.722417",
     "status": "completed"
    },
    "tags": []
   },
   "source": [
    "# Introduction\n",
    "\n",
    "Now that you know how to query nested and repeated data, you're ready to draw interesting insights from the [GitHub Repos](https://www.kaggle.com/github/github-repos) dataset.  \n",
    "\n",
    "Before you get started, run the following cell to set everything up."
   ]
  },
  {
   "cell_type": "code",
   "execution_count": 1,
   "id": "49f95d42",
   "metadata": {
    "execution": {
     "iopub.execute_input": "2024-02-04T16:35:54.737971Z",
     "iopub.status.busy": "2024-02-04T16:35:54.737616Z",
     "iopub.status.idle": "2024-02-04T16:36:02.515425Z",
     "shell.execute_reply": "2024-02-04T16:36:02.514283Z"
    },
    "papermill": {
     "duration": 7.786445,
     "end_time": "2024-02-04T16:36:02.517867",
     "exception": false,
     "start_time": "2024-02-04T16:35:54.731422",
     "status": "completed"
    },
    "tags": []
   },
   "outputs": [
    {
     "name": "stdout",
     "output_type": "stream",
     "text": [
      "Using Kaggle's public dataset BigQuery integration.\n",
      "Setup Complete\n"
     ]
    }
   ],
   "source": [
    "# Set up feedback system\n",
    "from learntools.core import binder\n",
    "binder.bind(globals())\n",
    "from learntools.sql_advanced.ex3 import *\n",
    "print(\"Setup Complete\")"
   ]
  },
  {
   "cell_type": "markdown",
   "id": "2720e14c",
   "metadata": {
    "papermill": {
     "duration": 0.004752,
     "end_time": "2024-02-04T16:36:02.527711",
     "exception": false,
     "start_time": "2024-02-04T16:36:02.522959",
     "status": "completed"
    },
    "tags": []
   },
   "source": [
    "# Exercises\n",
    "\n",
    "### 1) Who had the most commits in 2016?\n",
    "\n",
    "GitHub is the most popular place to collaborate on software projects. A GitHub **repository** (or repo) is a collection of files associated with a specific project, and a GitHub **commit** is a change that a user has made to a repository.  We refer to the user as a **committer**.\n",
    "\n",
    "The `sample_commits` table contains a small sample of GitHub commits, where each row corresponds to different commit.  The code cell below fetches the table and shows the first five rows of this table."
   ]
  },
  {
   "cell_type": "code",
   "execution_count": 2,
   "id": "af361793",
   "metadata": {
    "execution": {
     "iopub.execute_input": "2024-02-04T16:36:02.539500Z",
     "iopub.status.busy": "2024-02-04T16:36:02.538813Z",
     "iopub.status.idle": "2024-02-04T16:36:03.794095Z",
     "shell.execute_reply": "2024-02-04T16:36:03.793371Z"
    },
    "papermill": {
     "duration": 1.263549,
     "end_time": "2024-02-04T16:36:03.796124",
     "exception": false,
     "start_time": "2024-02-04T16:36:02.532575",
     "status": "completed"
    },
    "tags": []
   },
   "outputs": [
    {
     "name": "stdout",
     "output_type": "stream",
     "text": [
      "Using Kaggle's public dataset BigQuery integration.\n"
     ]
    },
    {
     "data": {
      "text/html": [
       "<div>\n",
       "<style scoped>\n",
       "    .dataframe tbody tr th:only-of-type {\n",
       "        vertical-align: middle;\n",
       "    }\n",
       "\n",
       "    .dataframe tbody tr th {\n",
       "        vertical-align: top;\n",
       "    }\n",
       "\n",
       "    .dataframe thead th {\n",
       "        text-align: right;\n",
       "    }\n",
       "</style>\n",
       "<table border=\"1\" class=\"dataframe\">\n",
       "  <thead>\n",
       "    <tr style=\"text-align: right;\">\n",
       "      <th></th>\n",
       "      <th>commit</th>\n",
       "      <th>tree</th>\n",
       "      <th>parent</th>\n",
       "      <th>author</th>\n",
       "      <th>committer</th>\n",
       "      <th>subject</th>\n",
       "      <th>message</th>\n",
       "      <th>trailer</th>\n",
       "      <th>difference</th>\n",
       "      <th>difference_truncated</th>\n",
       "      <th>repo_name</th>\n",
       "      <th>encoding</th>\n",
       "    </tr>\n",
       "  </thead>\n",
       "  <tbody>\n",
       "    <tr>\n",
       "      <th>0</th>\n",
       "      <td>afdba32e2a9ea729a9f9f280dbf6c718773c7ded</td>\n",
       "      <td>d77cca8a096e5320f3194d4a6ca1b4fef2dc9b99</td>\n",
       "      <td>[d65e55d4999b394e37ffe12543ecd2a17b7c44fc]</td>\n",
       "      <td>{'name': 'Jason Gunthorpe', 'email': 'a99b91d7...</td>\n",
       "      <td>{'name': 'Peter Huewe', 'email': '014f16385c5a...</td>\n",
       "      <td>tpm: Pull everything related to /dev/tpmX into...</td>\n",
       "      <td>tpm: Pull everything related to /dev/tpmX into...</td>\n",
       "      <td>[{'key': 'Signed-off-by', 'value': 'Jason Gunt...</td>\n",
       "      <td>[{'old_mode': 33188.0, 'new_mode': 33188, 'old...</td>\n",
       "      <td>None</td>\n",
       "      <td>torvalds/linux</td>\n",
       "      <td>None</td>\n",
       "    </tr>\n",
       "    <tr>\n",
       "      <th>1</th>\n",
       "      <td>eb846d9f147455e4e5e1863bfb5e31974bb69b7c</td>\n",
       "      <td>443efbb146c7824508be817923bab04c2185810e</td>\n",
       "      <td>[3af6b35261182ff185db1f0fd271254147e2663e]</td>\n",
       "      <td>{'name': 'Hannes Reinecke', 'email': 'b0d1e9e4...</td>\n",
       "      <td>{'name': 'Christoph Hellwig', 'email': '923f77...</td>\n",
       "      <td>scsi: rename SERVICE_ACTION_IN to SERVICE_ACTI...</td>\n",
       "      <td>scsi: rename SERVICE_ACTION_IN to SERVICE_ACTI...</td>\n",
       "      <td>[{'key': 'Signed-off-by', 'value': 'Hannes Rei...</td>\n",
       "      <td>[{'old_mode': 33188.0, 'new_mode': 33188, 'old...</td>\n",
       "      <td>None</td>\n",
       "      <td>torvalds/linux</td>\n",
       "      <td>None</td>\n",
       "    </tr>\n",
       "    <tr>\n",
       "      <th>2</th>\n",
       "      <td>f8798ccbefc0e4ef7438c080b7ba0410738c8cfa</td>\n",
       "      <td>9133440693c02314f1f6f95629b3594ce24ad0f8</td>\n",
       "      <td>[261e767628bb5971b9032439818237cc8511ea94]</td>\n",
       "      <td>{'name': 'Yong Zhang', 'email': '34add0fe16a1f...</td>\n",
       "      <td>{'name': 'Florian Tobias Schandinat', 'email':...</td>\n",
       "      <td>video: irq: Remove IRQF_DISABLED</td>\n",
       "      <td>video: irq: Remove IRQF_DISABLED\\n\\nSince comm...</td>\n",
       "      <td>[{'key': 'Signed-off-by', 'value': 'Yong Zhang...</td>\n",
       "      <td>[{'old_mode': 33188.0, 'new_mode': 33188, 'old...</td>\n",
       "      <td>None</td>\n",
       "      <td>torvalds/linux</td>\n",
       "      <td>None</td>\n",
       "    </tr>\n",
       "    <tr>\n",
       "      <th>3</th>\n",
       "      <td>b83ae6d421435c6204150300f1c25bfbd39cd62b</td>\n",
       "      <td>99c6b661ab7de05c2fd49aa62624d2d6bf8abc69</td>\n",
       "      <td>[de1414a654e66b81b5348dbc5259ecf2fb61655e]</td>\n",
       "      <td>{'name': 'Christoph Hellwig', 'email': '923f77...</td>\n",
       "      <td>{'name': 'Jens Axboe', 'email': 'cd8c6775e60d6...</td>\n",
       "      <td>fs: remove mapping-&gt;backing_dev_info</td>\n",
       "      <td>fs: remove mapping-&gt;backing_dev_info\\n\\nNow th...</td>\n",
       "      <td>[{'key': 'Signed-off-by', 'value': 'Christoph ...</td>\n",
       "      <td>[{'old_mode': 33188.0, 'new_mode': 33188, 'old...</td>\n",
       "      <td>None</td>\n",
       "      <td>torvalds/linux</td>\n",
       "      <td>None</td>\n",
       "    </tr>\n",
       "    <tr>\n",
       "      <th>4</th>\n",
       "      <td>aaabee8b7686dfe49f10289cb4b7a817b99e5dd9</td>\n",
       "      <td>7ccc6cf829a93d46daf484164a5466c91eca2efa</td>\n",
       "      <td>[795e9364215dc98b1dea888ebae22383ecbbb92a, 2f2...</td>\n",
       "      <td>{'name': 'Luciano Coelho', 'email': 'd1ef58086...</td>\n",
       "      <td>{'name': 'Luciano Coelho', 'email': 'd1ef58086...</td>\n",
       "      <td>Merge branch 'wl12xx-next' into for-linville</td>\n",
       "      <td>Merge branch 'wl12xx-next' into for-linville\\n...</td>\n",
       "      <td>[{'key': 'Conflicts', 'value': '', 'email': No...</td>\n",
       "      <td>[{'old_mode': 33188.0, 'new_mode': 33188, 'old...</td>\n",
       "      <td>None</td>\n",
       "      <td>torvalds/linux</td>\n",
       "      <td>None</td>\n",
       "    </tr>\n",
       "  </tbody>\n",
       "</table>\n",
       "</div>"
      ],
      "text/plain": [
       "                                     commit  \\\n",
       "0  afdba32e2a9ea729a9f9f280dbf6c718773c7ded   \n",
       "1  eb846d9f147455e4e5e1863bfb5e31974bb69b7c   \n",
       "2  f8798ccbefc0e4ef7438c080b7ba0410738c8cfa   \n",
       "3  b83ae6d421435c6204150300f1c25bfbd39cd62b   \n",
       "4  aaabee8b7686dfe49f10289cb4b7a817b99e5dd9   \n",
       "\n",
       "                                       tree  \\\n",
       "0  d77cca8a096e5320f3194d4a6ca1b4fef2dc9b99   \n",
       "1  443efbb146c7824508be817923bab04c2185810e   \n",
       "2  9133440693c02314f1f6f95629b3594ce24ad0f8   \n",
       "3  99c6b661ab7de05c2fd49aa62624d2d6bf8abc69   \n",
       "4  7ccc6cf829a93d46daf484164a5466c91eca2efa   \n",
       "\n",
       "                                              parent  \\\n",
       "0         [d65e55d4999b394e37ffe12543ecd2a17b7c44fc]   \n",
       "1         [3af6b35261182ff185db1f0fd271254147e2663e]   \n",
       "2         [261e767628bb5971b9032439818237cc8511ea94]   \n",
       "3         [de1414a654e66b81b5348dbc5259ecf2fb61655e]   \n",
       "4  [795e9364215dc98b1dea888ebae22383ecbbb92a, 2f2...   \n",
       "\n",
       "                                              author  \\\n",
       "0  {'name': 'Jason Gunthorpe', 'email': 'a99b91d7...   \n",
       "1  {'name': 'Hannes Reinecke', 'email': 'b0d1e9e4...   \n",
       "2  {'name': 'Yong Zhang', 'email': '34add0fe16a1f...   \n",
       "3  {'name': 'Christoph Hellwig', 'email': '923f77...   \n",
       "4  {'name': 'Luciano Coelho', 'email': 'd1ef58086...   \n",
       "\n",
       "                                           committer  \\\n",
       "0  {'name': 'Peter Huewe', 'email': '014f16385c5a...   \n",
       "1  {'name': 'Christoph Hellwig', 'email': '923f77...   \n",
       "2  {'name': 'Florian Tobias Schandinat', 'email':...   \n",
       "3  {'name': 'Jens Axboe', 'email': 'cd8c6775e60d6...   \n",
       "4  {'name': 'Luciano Coelho', 'email': 'd1ef58086...   \n",
       "\n",
       "                                             subject  \\\n",
       "0  tpm: Pull everything related to /dev/tpmX into...   \n",
       "1  scsi: rename SERVICE_ACTION_IN to SERVICE_ACTI...   \n",
       "2                   video: irq: Remove IRQF_DISABLED   \n",
       "3               fs: remove mapping->backing_dev_info   \n",
       "4       Merge branch 'wl12xx-next' into for-linville   \n",
       "\n",
       "                                             message  \\\n",
       "0  tpm: Pull everything related to /dev/tpmX into...   \n",
       "1  scsi: rename SERVICE_ACTION_IN to SERVICE_ACTI...   \n",
       "2  video: irq: Remove IRQF_DISABLED\\n\\nSince comm...   \n",
       "3  fs: remove mapping->backing_dev_info\\n\\nNow th...   \n",
       "4  Merge branch 'wl12xx-next' into for-linville\\n...   \n",
       "\n",
       "                                             trailer  \\\n",
       "0  [{'key': 'Signed-off-by', 'value': 'Jason Gunt...   \n",
       "1  [{'key': 'Signed-off-by', 'value': 'Hannes Rei...   \n",
       "2  [{'key': 'Signed-off-by', 'value': 'Yong Zhang...   \n",
       "3  [{'key': 'Signed-off-by', 'value': 'Christoph ...   \n",
       "4  [{'key': 'Conflicts', 'value': '', 'email': No...   \n",
       "\n",
       "                                          difference difference_truncated  \\\n",
       "0  [{'old_mode': 33188.0, 'new_mode': 33188, 'old...                 None   \n",
       "1  [{'old_mode': 33188.0, 'new_mode': 33188, 'old...                 None   \n",
       "2  [{'old_mode': 33188.0, 'new_mode': 33188, 'old...                 None   \n",
       "3  [{'old_mode': 33188.0, 'new_mode': 33188, 'old...                 None   \n",
       "4  [{'old_mode': 33188.0, 'new_mode': 33188, 'old...                 None   \n",
       "\n",
       "        repo_name encoding  \n",
       "0  torvalds/linux     None  \n",
       "1  torvalds/linux     None  \n",
       "2  torvalds/linux     None  \n",
       "3  torvalds/linux     None  \n",
       "4  torvalds/linux     None  "
      ]
     },
     "execution_count": 2,
     "metadata": {},
     "output_type": "execute_result"
    }
   ],
   "source": [
    "from google.cloud import bigquery\n",
    "\n",
    "# Create a \"Client\" object\n",
    "client = bigquery.Client()\n",
    "\n",
    "# Construct a reference to the \"github_repos\" dataset\n",
    "dataset_ref = client.dataset(\"github_repos\", project=\"bigquery-public-data\")\n",
    "\n",
    "# API request - fetch the dataset\n",
    "dataset = client.get_dataset(dataset_ref)\n",
    "\n",
    "# Construct a reference to the \"sample_commits\" table\n",
    "table_ref = dataset_ref.table(\"sample_commits\")\n",
    "\n",
    "# API request - fetch the table\n",
    "sample_commits_table = client.get_table(table_ref)\n",
    "\n",
    "# Preview the first five lines of the table\n",
    "client.list_rows(sample_commits_table, max_results=5).to_dataframe()"
   ]
  },
  {
   "cell_type": "markdown",
   "id": "bf0c38a3",
   "metadata": {
    "papermill": {
     "duration": 0.005278,
     "end_time": "2024-02-04T16:36:03.807037",
     "exception": false,
     "start_time": "2024-02-04T16:36:03.801759",
     "status": "completed"
    },
    "tags": []
   },
   "source": [
    "Run the next code cell to print the table schema. "
   ]
  },
  {
   "cell_type": "code",
   "execution_count": 3,
   "id": "ec300a50",
   "metadata": {
    "execution": {
     "iopub.execute_input": "2024-02-04T16:36:03.820056Z",
     "iopub.status.busy": "2024-02-04T16:36:03.819345Z",
     "iopub.status.idle": "2024-02-04T16:36:03.826153Z",
     "shell.execute_reply": "2024-02-04T16:36:03.825190Z"
    },
    "papermill": {
     "duration": 0.01556,
     "end_time": "2024-02-04T16:36:03.828196",
     "exception": false,
     "start_time": "2024-02-04T16:36:03.812636",
     "status": "completed"
    },
    "tags": []
   },
   "outputs": [
    {
     "data": {
      "text/plain": [
       "[SchemaField('commit', 'STRING', 'NULLABLE', None, (), None),\n",
       " SchemaField('tree', 'STRING', 'NULLABLE', None, (), None),\n",
       " SchemaField('parent', 'STRING', 'REPEATED', None, (), None),\n",
       " SchemaField('author', 'RECORD', 'NULLABLE', None, (SchemaField('name', 'STRING', 'NULLABLE', None, (), None), SchemaField('email', 'STRING', 'NULLABLE', None, (), None), SchemaField('time_sec', 'INTEGER', 'NULLABLE', None, (), None), SchemaField('tz_offset', 'INTEGER', 'NULLABLE', None, (), None), SchemaField('date', 'TIMESTAMP', 'NULLABLE', None, (), None)), None),\n",
       " SchemaField('committer', 'RECORD', 'NULLABLE', None, (SchemaField('name', 'STRING', 'NULLABLE', None, (), None), SchemaField('email', 'STRING', 'NULLABLE', None, (), None), SchemaField('time_sec', 'INTEGER', 'NULLABLE', None, (), None), SchemaField('tz_offset', 'INTEGER', 'NULLABLE', None, (), None), SchemaField('date', 'TIMESTAMP', 'NULLABLE', None, (), None)), None),\n",
       " SchemaField('subject', 'STRING', 'NULLABLE', None, (), None),\n",
       " SchemaField('message', 'STRING', 'NULLABLE', None, (), None),\n",
       " SchemaField('trailer', 'RECORD', 'REPEATED', None, (SchemaField('key', 'STRING', 'NULLABLE', None, (), None), SchemaField('value', 'STRING', 'NULLABLE', None, (), None), SchemaField('email', 'STRING', 'NULLABLE', None, (), None)), None),\n",
       " SchemaField('difference', 'RECORD', 'REPEATED', None, (SchemaField('old_mode', 'INTEGER', 'NULLABLE', None, (), None), SchemaField('new_mode', 'INTEGER', 'NULLABLE', None, (), None), SchemaField('old_path', 'STRING', 'NULLABLE', None, (), None), SchemaField('new_path', 'STRING', 'NULLABLE', None, (), None), SchemaField('old_sha1', 'STRING', 'NULLABLE', None, (), None), SchemaField('new_sha1', 'STRING', 'NULLABLE', None, (), None), SchemaField('old_repo', 'STRING', 'NULLABLE', None, (), None), SchemaField('new_repo', 'STRING', 'NULLABLE', None, (), None)), None),\n",
       " SchemaField('difference_truncated', 'BOOLEAN', 'NULLABLE', None, (), None),\n",
       " SchemaField('repo_name', 'STRING', 'NULLABLE', None, (), None),\n",
       " SchemaField('encoding', 'STRING', 'NULLABLE', None, (), None)]"
      ]
     },
     "execution_count": 3,
     "metadata": {},
     "output_type": "execute_result"
    }
   ],
   "source": [
    "# Print information on all the columns in the table\n",
    "sample_commits_table.schema"
   ]
  },
  {
   "cell_type": "markdown",
   "id": "33e1566b",
   "metadata": {
    "papermill": {
     "duration": 0.005246,
     "end_time": "2024-02-04T16:36:03.839079",
     "exception": false,
     "start_time": "2024-02-04T16:36:03.833833",
     "status": "completed"
    },
    "tags": []
   },
   "source": [
    "Write a query to find the individuals with the most commits in this table in 2016.  Your query should return a table with two columns:\n",
    "- `committer_name` - contains the name of each individual with a commit (from 2016) in the table\n",
    "- `num_commits` - shows the number of commits the individual has in the table (from 2016)\n",
    "\n",
    "Sort the table, so that people with more commits appear first.\n",
    "\n",
    "**NOTE**: You can find the name of each committer and the date of the commit under the \"committer\" column, in the \"name\" and \"date\" child fields, respectively."
   ]
  },
  {
   "cell_type": "code",
   "execution_count": 4,
   "id": "4e9e88d2",
   "metadata": {
    "execution": {
     "iopub.execute_input": "2024-02-04T16:36:03.851498Z",
     "iopub.status.busy": "2024-02-04T16:36:03.851015Z",
     "iopub.status.idle": "2024-02-04T16:36:04.076186Z",
     "shell.execute_reply": "2024-02-04T16:36:04.075124Z"
    },
    "papermill": {
     "duration": 0.23394,
     "end_time": "2024-02-04T16:36:04.078513",
     "exception": false,
     "start_time": "2024-02-04T16:36:03.844573",
     "status": "completed"
    },
    "tags": []
   },
   "outputs": [
    {
     "data": {
      "application/javascript": [
       "parent.postMessage({\"jupyterEvent\": \"custom.exercise_interaction\", \"data\": {\"outcomeType\": 2, \"failureMessage\": \"You don't have a valid query yet.  Try again.\", \"interactionType\": 1, \"questionType\": 2, \"questionId\": \"1_MaxCommits\", \"learnToolsVersion\": \"0.3.4\", \"valueTowardsCompletion\": 0.0, \"exceptionClass\": \"\", \"trace\": \"\"}}, \"*\")"
      ],
      "text/plain": [
       "<IPython.core.display.Javascript object>"
      ]
     },
     "metadata": {},
     "output_type": "display_data"
    },
    {
     "data": {
      "text/markdown": [
       "<span style=\"color:#cc3333\">Incorrect:</span> You don't have a valid query yet.  Try again."
      ],
      "text/plain": [
       "Incorrect: You don't have a valid query yet.  Try again."
      ]
     },
     "metadata": {},
     "output_type": "display_data"
    }
   ],
   "source": [
    "# Write a query to find the answer\n",
    "max_commits_query = \"\"\"\n",
    "                    \"\"\"\n",
    "\n",
    "# Check your answer\n",
    "q_1.check()"
   ]
  },
  {
   "cell_type": "code",
   "execution_count": 5,
   "id": "32d10a94",
   "metadata": {
    "execution": {
     "iopub.execute_input": "2024-02-04T16:36:04.092407Z",
     "iopub.status.busy": "2024-02-04T16:36:04.091787Z",
     "iopub.status.idle": "2024-02-04T16:36:04.096053Z",
     "shell.execute_reply": "2024-02-04T16:36:04.095294Z"
    },
    "papermill": {
     "duration": 0.013614,
     "end_time": "2024-02-04T16:36:04.098034",
     "exception": false,
     "start_time": "2024-02-04T16:36:04.084420",
     "status": "completed"
    },
    "tags": []
   },
   "outputs": [],
   "source": [
    "# Lines below will give you a hint or solution code\n",
    "#q_1.hint()\n",
    "#q_1.solution()"
   ]
  },
  {
   "cell_type": "markdown",
   "id": "1cce067b",
   "metadata": {
    "papermill": {
     "duration": 0.005605,
     "end_time": "2024-02-04T16:36:04.109557",
     "exception": false,
     "start_time": "2024-02-04T16:36:04.103952",
     "status": "completed"
    },
    "tags": []
   },
   "source": [
    "### 2) Look at languages!\n",
    "\n",
    "Now you will work with the `languages` table.  Run the code cell below to print the first few rows."
   ]
  },
  {
   "cell_type": "code",
   "execution_count": 6,
   "id": "731d457f",
   "metadata": {
    "execution": {
     "iopub.execute_input": "2024-02-04T16:36:04.123941Z",
     "iopub.status.busy": "2024-02-04T16:36:04.123335Z",
     "iopub.status.idle": "2024-02-04T16:36:04.746308Z",
     "shell.execute_reply": "2024-02-04T16:36:04.745143Z"
    },
    "papermill": {
     "duration": 0.63242,
     "end_time": "2024-02-04T16:36:04.748630",
     "exception": false,
     "start_time": "2024-02-04T16:36:04.116210",
     "status": "completed"
    },
    "tags": []
   },
   "outputs": [
    {
     "data": {
      "text/html": [
       "<div>\n",
       "<style scoped>\n",
       "    .dataframe tbody tr th:only-of-type {\n",
       "        vertical-align: middle;\n",
       "    }\n",
       "\n",
       "    .dataframe tbody tr th {\n",
       "        vertical-align: top;\n",
       "    }\n",
       "\n",
       "    .dataframe thead th {\n",
       "        text-align: right;\n",
       "    }\n",
       "</style>\n",
       "<table border=\"1\" class=\"dataframe\">\n",
       "  <thead>\n",
       "    <tr style=\"text-align: right;\">\n",
       "      <th></th>\n",
       "      <th>repo_name</th>\n",
       "      <th>language</th>\n",
       "    </tr>\n",
       "  </thead>\n",
       "  <tbody>\n",
       "    <tr>\n",
       "      <th>0</th>\n",
       "      <td>lemi136/puntovent</td>\n",
       "      <td>[{'name': 'C', 'bytes': 80}]</td>\n",
       "    </tr>\n",
       "    <tr>\n",
       "      <th>1</th>\n",
       "      <td>taxigps/nctool</td>\n",
       "      <td>[{'name': 'C', 'bytes': 4461}]</td>\n",
       "    </tr>\n",
       "    <tr>\n",
       "      <th>2</th>\n",
       "      <td>ahy1/strbuf</td>\n",
       "      <td>[{'name': 'C', 'bytes': 5573}]</td>\n",
       "    </tr>\n",
       "    <tr>\n",
       "      <th>3</th>\n",
       "      <td>nleiten/mod_rpaf-ng</td>\n",
       "      <td>[{'name': 'C', 'bytes': 30330}]</td>\n",
       "    </tr>\n",
       "    <tr>\n",
       "      <th>4</th>\n",
       "      <td>kmcallister/alameda</td>\n",
       "      <td>[{'name': 'C', 'bytes': 17077}]</td>\n",
       "    </tr>\n",
       "  </tbody>\n",
       "</table>\n",
       "</div>"
      ],
      "text/plain": [
       "             repo_name                         language\n",
       "0    lemi136/puntovent     [{'name': 'C', 'bytes': 80}]\n",
       "1       taxigps/nctool   [{'name': 'C', 'bytes': 4461}]\n",
       "2          ahy1/strbuf   [{'name': 'C', 'bytes': 5573}]\n",
       "3  nleiten/mod_rpaf-ng  [{'name': 'C', 'bytes': 30330}]\n",
       "4  kmcallister/alameda  [{'name': 'C', 'bytes': 17077}]"
      ]
     },
     "execution_count": 6,
     "metadata": {},
     "output_type": "execute_result"
    }
   ],
   "source": [
    "# Construct a reference to the \"languages\" table\n",
    "table_ref = dataset_ref.table(\"languages\")\n",
    "\n",
    "# API request - fetch the table\n",
    "languages_table = client.get_table(table_ref)\n",
    "\n",
    "# Preview the first five lines of the table\n",
    "client.list_rows(languages_table, max_results=5).to_dataframe()"
   ]
  },
  {
   "cell_type": "markdown",
   "id": "b507f701",
   "metadata": {
    "papermill": {
     "duration": 0.005915,
     "end_time": "2024-02-04T16:36:04.760744",
     "exception": false,
     "start_time": "2024-02-04T16:36:04.754829",
     "status": "completed"
    },
    "tags": []
   },
   "source": [
    "Each row of the `languages` table corresponds to a different repository.  \n",
    "- The \"repo_name\" column contains the name of the repository,\n",
    "- the \"name\" field in the \"language\" column contains the programming languages that can be found in the repo, and \n",
    "- the \"bytes\" field in the \"language\" column has the size of the files (in bytes, for the corresponding language).\n",
    "\n",
    "Run the following code cell to print the table schema."
   ]
  },
  {
   "cell_type": "code",
   "execution_count": 7,
   "id": "6f286681",
   "metadata": {
    "execution": {
     "iopub.execute_input": "2024-02-04T16:36:04.775988Z",
     "iopub.status.busy": "2024-02-04T16:36:04.775127Z",
     "iopub.status.idle": "2024-02-04T16:36:04.781968Z",
     "shell.execute_reply": "2024-02-04T16:36:04.780949Z"
    },
    "papermill": {
     "duration": 0.017189,
     "end_time": "2024-02-04T16:36:04.783954",
     "exception": false,
     "start_time": "2024-02-04T16:36:04.766765",
     "status": "completed"
    },
    "tags": []
   },
   "outputs": [
    {
     "data": {
      "text/plain": [
       "[SchemaField('repo_name', 'STRING', 'NULLABLE', None, (), None),\n",
       " SchemaField('language', 'RECORD', 'REPEATED', None, (SchemaField('name', 'STRING', 'NULLABLE', None, (), None), SchemaField('bytes', 'INTEGER', 'NULLABLE', None, (), None)), None)]"
      ]
     },
     "execution_count": 7,
     "metadata": {},
     "output_type": "execute_result"
    }
   ],
   "source": [
    "# Print information on all the columns in the table\n",
    "languages_table.schema"
   ]
  },
  {
   "cell_type": "markdown",
   "id": "77e4fd72",
   "metadata": {
    "papermill": {
     "duration": 0.005932,
     "end_time": "2024-02-04T16:36:04.796097",
     "exception": false,
     "start_time": "2024-02-04T16:36:04.790165",
     "status": "completed"
    },
    "tags": []
   },
   "source": [
    "Assume for the moment that you have access to a table called `sample_languages` that contains only a very small subset of the rows from the `languages` table: in fact, it contains only three rows!  This table is depicted in the image below.\n",
    "\n",
    "![](https://storage.googleapis.com/kaggle-media/learn/images/qAb5lZ2.png)\n",
    "\n",
    "How many rows are in the table returned by the query below?\n",
    "\n",
    "![](https://storage.googleapis.com/kaggle-media/learn/images/Q5qYAtz.png)\n",
    "\n",
    "Fill in your answer in the next code cell."
   ]
  },
  {
   "cell_type": "code",
   "execution_count": 8,
   "id": "363ea1da",
   "metadata": {
    "execution": {
     "iopub.execute_input": "2024-02-04T16:36:04.810630Z",
     "iopub.status.busy": "2024-02-04T16:36:04.809905Z",
     "iopub.status.idle": "2024-02-04T16:36:04.818390Z",
     "shell.execute_reply": "2024-02-04T16:36:04.817394Z"
    },
    "papermill": {
     "duration": 0.018091,
     "end_time": "2024-02-04T16:36:04.820366",
     "exception": false,
     "start_time": "2024-02-04T16:36:04.802275",
     "status": "completed"
    },
    "tags": []
   },
   "outputs": [
    {
     "data": {
      "application/javascript": [
       "parent.postMessage({\"jupyterEvent\": \"custom.exercise_interaction\", \"data\": {\"outcomeType\": 4, \"interactionType\": 1, \"questionType\": 1, \"questionId\": \"2_LookLang\", \"learnToolsVersion\": \"0.3.4\", \"valueTowardsCompletion\": 0.0, \"failureMessage\": \"\", \"exceptionClass\": \"\", \"trace\": \"\"}}, \"*\")"
      ],
      "text/plain": [
       "<IPython.core.display.Javascript object>"
      ]
     },
     "metadata": {},
     "output_type": "display_data"
    },
    {
     "data": {
      "text/markdown": [
       "<span style=\"color:#ccaa33\">Check:</span> When you've updated the starter code, `check()` will tell you whether your code is correct. You need to update the code that creates variable `num_rows`"
      ],
      "text/plain": [
       "Check: When you've updated the starter code, `check()` will tell you whether your code is correct. You need to update the code that creates variable `num_rows`"
      ]
     },
     "metadata": {},
     "output_type": "display_data"
    }
   ],
   "source": [
    "# Fill in the blank\n",
    "num_rows = ____\n",
    "\n",
    "# Check your answer\n",
    "q_2.check()"
   ]
  },
  {
   "cell_type": "code",
   "execution_count": 9,
   "id": "aee89783",
   "metadata": {
    "execution": {
     "iopub.execute_input": "2024-02-04T16:36:04.835408Z",
     "iopub.status.busy": "2024-02-04T16:36:04.834690Z",
     "iopub.status.idle": "2024-02-04T16:36:04.839000Z",
     "shell.execute_reply": "2024-02-04T16:36:04.838221Z"
    },
    "papermill": {
     "duration": 0.014072,
     "end_time": "2024-02-04T16:36:04.841051",
     "exception": false,
     "start_time": "2024-02-04T16:36:04.826979",
     "status": "completed"
    },
    "tags": []
   },
   "outputs": [],
   "source": [
    "# Lines below will give you a hint or solution code\n",
    "#q_2.hint()\n",
    "#q_2.solution()"
   ]
  },
  {
   "cell_type": "markdown",
   "id": "dda7834a",
   "metadata": {
    "papermill": {
     "duration": 0.006395,
     "end_time": "2024-02-04T16:36:04.854129",
     "exception": false,
     "start_time": "2024-02-04T16:36:04.847734",
     "status": "completed"
    },
    "tags": []
   },
   "source": [
    "### 3) What's the most popular programming language?\n",
    "\n",
    "Write a query to leverage the information in the `languages` table to determine which programming languages appear in the most repositories.  The table returned by your query should have two columns:\n",
    "- `language_name` - the name of the programming language\n",
    "- `num_repos` - the number of repositories in the `languages` table that use the programming language\n",
    "\n",
    "Sort the table so that languages that appear in more repos are shown first."
   ]
  },
  {
   "cell_type": "code",
   "execution_count": 10,
   "id": "734b56c2",
   "metadata": {
    "execution": {
     "iopub.execute_input": "2024-02-04T16:36:04.869207Z",
     "iopub.status.busy": "2024-02-04T16:36:04.868594Z",
     "iopub.status.idle": "2024-02-04T16:36:05.095867Z",
     "shell.execute_reply": "2024-02-04T16:36:05.094794Z"
    },
    "papermill": {
     "duration": 0.237789,
     "end_time": "2024-02-04T16:36:05.098446",
     "exception": false,
     "start_time": "2024-02-04T16:36:04.860657",
     "status": "completed"
    },
    "tags": []
   },
   "outputs": [
    {
     "data": {
      "application/javascript": [
       "parent.postMessage({\"jupyterEvent\": \"custom.exercise_interaction\", \"data\": {\"outcomeType\": 2, \"failureMessage\": \"You don't have a valid query yet.  Try again.\", \"interactionType\": 1, \"questionType\": 2, \"questionId\": \"3_PopLang\", \"learnToolsVersion\": \"0.3.4\", \"valueTowardsCompletion\": 0.0, \"exceptionClass\": \"\", \"trace\": \"\"}}, \"*\")"
      ],
      "text/plain": [
       "<IPython.core.display.Javascript object>"
      ]
     },
     "metadata": {},
     "output_type": "display_data"
    },
    {
     "data": {
      "text/markdown": [
       "<span style=\"color:#cc3333\">Incorrect:</span> You don't have a valid query yet.  Try again."
      ],
      "text/plain": [
       "Incorrect: You don't have a valid query yet.  Try again."
      ]
     },
     "metadata": {},
     "output_type": "display_data"
    }
   ],
   "source": [
    "# Write a query to find the answer\n",
    "pop_lang_query = \"\"\"\n",
    "                 \"\"\"\n",
    "\n",
    "# Check your answer\n",
    "q_3.check()"
   ]
  },
  {
   "cell_type": "code",
   "execution_count": 11,
   "id": "80364a50",
   "metadata": {
    "execution": {
     "iopub.execute_input": "2024-02-04T16:36:05.114211Z",
     "iopub.status.busy": "2024-02-04T16:36:05.113620Z",
     "iopub.status.idle": "2024-02-04T16:36:05.117841Z",
     "shell.execute_reply": "2024-02-04T16:36:05.116955Z"
    },
    "papermill": {
     "duration": 0.014376,
     "end_time": "2024-02-04T16:36:05.119713",
     "exception": false,
     "start_time": "2024-02-04T16:36:05.105337",
     "status": "completed"
    },
    "tags": []
   },
   "outputs": [],
   "source": [
    "# Lines below will give you a hint or solution code\n",
    "#q_3.hint()\n",
    "#q_3.solution()"
   ]
  },
  {
   "cell_type": "markdown",
   "id": "bdabfec9",
   "metadata": {
    "papermill": {
     "duration": 0.006751,
     "end_time": "2024-02-04T16:36:05.133411",
     "exception": false,
     "start_time": "2024-02-04T16:36:05.126660",
     "status": "completed"
    },
    "tags": []
   },
   "source": [
    "### 4) Which languages are used in the repository with the most languages?\n",
    "\n",
    "For this question, you'll restrict your attention to the repository with name `'polyrabbit/polyglot'`.\n",
    "\n",
    "Write a query that returns a table with one row for each language in this repository.  The table should have two columns:\n",
    "- `name` - the name of the programming language\n",
    "- `bytes` - the total number of bytes of that programming language\n",
    "\n",
    "Sort the table by the `bytes` column so that programming languages that take up more space in the repo appear first."
   ]
  },
  {
   "cell_type": "code",
   "execution_count": 12,
   "id": "b1ca6adc",
   "metadata": {
    "execution": {
     "iopub.execute_input": "2024-02-04T16:36:05.149206Z",
     "iopub.status.busy": "2024-02-04T16:36:05.148588Z",
     "iopub.status.idle": "2024-02-04T16:36:05.413618Z",
     "shell.execute_reply": "2024-02-04T16:36:05.412594Z"
    },
    "papermill": {
     "duration": 0.275756,
     "end_time": "2024-02-04T16:36:05.415977",
     "exception": false,
     "start_time": "2024-02-04T16:36:05.140221",
     "status": "completed"
    },
    "tags": []
   },
   "outputs": [
    {
     "data": {
      "application/javascript": [
       "parent.postMessage({\"jupyterEvent\": \"custom.exercise_interaction\", \"data\": {\"outcomeType\": 2, \"failureMessage\": \"You don't have a valid query yet.  Try again.\", \"interactionType\": 1, \"questionType\": 2, \"questionId\": \"4_AllLangs\", \"learnToolsVersion\": \"0.3.4\", \"valueTowardsCompletion\": 0.0, \"exceptionClass\": \"\", \"trace\": \"\"}}, \"*\")"
      ],
      "text/plain": [
       "<IPython.core.display.Javascript object>"
      ]
     },
     "metadata": {},
     "output_type": "display_data"
    },
    {
     "data": {
      "text/markdown": [
       "<span style=\"color:#cc3333\">Incorrect:</span> You don't have a valid query yet.  Try again."
      ],
      "text/plain": [
       "Incorrect: You don't have a valid query yet.  Try again."
      ]
     },
     "metadata": {},
     "output_type": "display_data"
    }
   ],
   "source": [
    "# Your code here\n",
    "all_langs_query = \"\"\"\n",
    "                  \"\"\"\n",
    "\n",
    "# Check your answer\n",
    "q_4.check()"
   ]
  },
  {
   "cell_type": "code",
   "execution_count": 13,
   "id": "8f1b95fd",
   "metadata": {
    "execution": {
     "iopub.execute_input": "2024-02-04T16:36:05.432213Z",
     "iopub.status.busy": "2024-02-04T16:36:05.431872Z",
     "iopub.status.idle": "2024-02-04T16:36:05.435298Z",
     "shell.execute_reply": "2024-02-04T16:36:05.434590Z"
    },
    "papermill": {
     "duration": 0.014015,
     "end_time": "2024-02-04T16:36:05.437233",
     "exception": false,
     "start_time": "2024-02-04T16:36:05.423218",
     "status": "completed"
    },
    "tags": []
   },
   "outputs": [],
   "source": [
    "# Lines below will give you a hint or solution code\n",
    "#q_4.hint()\n",
    "#q_4.solution()"
   ]
  },
  {
   "cell_type": "markdown",
   "id": "b2ff44b2",
   "metadata": {
    "papermill": {
     "duration": 0.007055,
     "end_time": "2024-02-04T16:36:05.451892",
     "exception": false,
     "start_time": "2024-02-04T16:36:05.444837",
     "status": "completed"
    },
    "tags": []
   },
   "source": [
    "# Keep going\n",
    "\n",
    "Learn how to make your queries **[more efficient](https://www.kaggle.com/alexisbcook/writing-efficient-queries)**."
   ]
  },
  {
   "cell_type": "markdown",
   "id": "62d3cbc1",
   "metadata": {
    "papermill": {
     "duration": 0.007037,
     "end_time": "2024-02-04T16:36:05.466434",
     "exception": false,
     "start_time": "2024-02-04T16:36:05.459397",
     "status": "completed"
    },
    "tags": []
   },
   "source": [
    "---\n",
    "\n",
    "\n",
    "\n",
    "\n",
    "*Have questions or comments? Visit the [course discussion forum](https://www.kaggle.com/learn/advanced-sql/discussion) to chat with other learners.*"
   ]
  }
 ],
 "metadata": {
  "kaggle": {
   "accelerator": "none",
   "dataSources": [
    {
     "datasetId": 6178,
     "sourceId": 337545,
     "sourceType": "datasetVersion"
    }
   ],
   "isGpuEnabled": false,
   "isInternetEnabled": false,
   "language": "python",
   "sourceType": "notebook"
  },
  "kernelspec": {
   "display_name": "Python 3",
   "language": "python",
   "name": "python3"
  },
  "language_info": {
   "codemirror_mode": {
    "name": "ipython",
    "version": 3
   },
   "file_extension": ".py",
   "mimetype": "text/x-python",
   "name": "python",
   "nbconvert_exporter": "python",
   "pygments_lexer": "ipython3",
   "version": "3.10.13"
  },
  "papermill": {
   "default_parameters": {},
   "duration": 14.108777,
   "end_time": "2024-02-04T16:36:06.194511",
   "environment_variables": {},
   "exception": null,
   "input_path": "__notebook__.ipynb",
   "output_path": "__notebook__.ipynb",
   "parameters": {},
   "start_time": "2024-02-04T16:35:52.085734",
   "version": "2.5.0"
  }
 },
 "nbformat": 4,
 "nbformat_minor": 5
}
